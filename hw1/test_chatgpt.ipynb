{
 "cells": [
  {
   "cell_type": "code",
   "execution_count": null,
   "metadata": {},
   "outputs": [
    {
     "ename": "",
     "evalue": "",
     "output_type": "error",
     "traceback": [
      "\u001b[1;31m在目前儲存格或上一個儲存格中執行程式碼時，Kernel 已損毀。請檢閱儲存格中的程式碼，找出失敗的可能原因。如需詳細資訊，請按一下<a href='https://aka.ms/vscodeJupyterKernelCrash'>這裡</a>。檢視 Jupyter <a href='command:jupyter.viewOutput'>記錄</a>，以取得進一步的詳細資料。"
     ]
    }
   ],
   "source": [
    "import tkinter as tk\n",
    "from tkinter import filedialog\n",
    "import cv2\n",
    "import numpy as np\n",
    "import math\n",
    "import matplotlib.pyplot as plt\n",
    "\n",
    "class ImageProcessorApp:\n",
    "    def __init__(self, root):\n",
    "        self.root = root\n",
    "        self.root.title(\"Image Processor\")\n",
    "\n",
    "        # Create menu bar\n",
    "        self.menu_bar = tk.Menu(root)\n",
    "        self.root.config(menu=self.menu_bar)\n",
    "\n",
    "        # Create File menu\n",
    "        self.file_menu = tk.Menu(self.menu_bar, tearoff=0)\n",
    "        self.menu_bar.add_cascade(label=\"File\", menu=self.file_menu)\n",
    "        self.file_menu.button(label=\"Open Image\", command=self.open_image)\n",
    "        self.file_menu.button(label=\"Save Image\", command=self.save_image)\n",
    "\n",
    "        # Create Image Canvas\n",
    "        self.canvas = tk.Canvas(root, width=400, height=400)\n",
    "        self.canvas.pack()\n",
    "\n",
    "        # Image processing variables\n",
    "        self.original_image = None\n",
    "        self.current_image = None\n",
    "        self.contrast_a = 1.0\n",
    "        self.contrast_b = 0.0\n",
    "\n",
    "    def open_image(self):\n",
    "        file_path = filedialog.askopenfilename(filetypes=[(\"Image files\", \"*.jpg *.jpeg *.tif *.tiff\")])\n",
    "        if file_path:\n",
    "            self.original_image = cv2.imread(file_path, cv2.IMREAD_GRAYSCALE)\n",
    "            self.current_image = self.original_image.copy()\n",
    "            self.update_display()\n",
    "\n",
    "    def save_image(self):\n",
    "        if self.original_image is not None:\n",
    "            file_path = filedialog.asksaveasfilename(defaultextension=\".jpg\")\n",
    "            if file_path:\n",
    "                cv2.imwrite(file_path, self.current_image)\n",
    "\n",
    "    def update_display(self):\n",
    "        # pass\n",
    "        if self.current_image is not None:\n",
    "            img = cv2.cvtColor(self.current_image, cv2.COLOR_GRAY2RGB)\n",
    "            img = cv2.resize(img, (400, 400))\n",
    "            img = cv2.cvtColor(img, cv2.COLOR_BGR2RGB)\n",
    "            img = Image.fromarray(img)\n",
    "            img = Image.PhotoImage(img)\n",
    "            self.canvas.create_image(0, 0, anchor=tk.NW, image=img)\n",
    "            self.canvas.image = img\n",
    "\n",
    "    def adjust_contrast_linear(self):\n",
    "        if self.original_image is not None:\n",
    "            self.current_image = self.contrast_a * self.original_image + self.contrast_b\n",
    "            self.update_display()\n",
    "\n",
    "    # Implement other image processing functions (exponential, logarithmic, zoom, rotate, etc.)\n",
    "\n",
    "if __name__ == \"__main__\":\n",
    "    root = tk.Tk()\n",
    "    app = ImageProcessorApp(root)\n",
    "    root.mainloop()\n"
   ]
  },
  {
   "cell_type": "code",
   "execution_count": null,
   "metadata": {},
   "outputs": [],
   "source": []
  }
 ],
 "metadata": {
  "kernelspec": {
   "display_name": "base",
   "language": "python",
   "name": "python3"
  },
  "language_info": {
   "codemirror_mode": {
    "name": "ipython",
    "version": 3
   },
   "file_extension": ".py",
   "mimetype": "text/x-python",
   "name": "python",
   "nbconvert_exporter": "python",
   "pygments_lexer": "ipython3",
   "version": "3.10.11"
  },
  "orig_nbformat": 4
 },
 "nbformat": 4,
 "nbformat_minor": 2
}
