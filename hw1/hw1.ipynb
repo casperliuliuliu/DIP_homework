{
 "cells": [
  {
   "cell_type": "code",
   "execution_count": 1,
   "metadata": {},
   "outputs": [],
   "source": [
    "import tkinter as tk\n",
    "from tkinter import filedialog\n",
    "from tkinter import messagebox\n",
    "from PIL import Image, ImageTk\n",
    "\n",
    "class ImageEditorApp:\n",
    "    def __init__(self, root):\n",
    "        self.root = root\n",
    "        self.root.title(\"Image Editor\")\n",
    "\n",
    "        self.image_label = tk.Label(root)\n",
    "        self.image_label.pack(pady=10)\n",
    "\n",
    "        self.open_button = tk.Button(root, text=\"Open Image\", command=self.open_image)\n",
    "        self.open_button.pack(pady=5)\n",
    "\n",
    "        self.save_button = tk.Button(root, text=\"Save Image\", command=self.save_image)\n",
    "        self.save_button.pack(pady=5)\n",
    "\n",
    "        self.image = None\n",
    "\n",
    "    def open_image(self):\n",
    "        file_path = filedialog.askopenfilename(filetypes=[(\"Image files\", \"*.jpg *.jpeg *.tif *.tiff\")])\n",
    "        if file_path:\n",
    "            self.image = Image.open(file_path)\n",
    "            self.display_image()\n",
    "\n",
    "    def save_image(self):\n",
    "        if self.image:\n",
    "            file_path = filedialog.asksaveasfilename(defaultextension=\".jpg\", filetypes=[(\"JPEG files\", \"*.jpg *.jpeg\"), (\"TIF files\", \"*.tif *.tiff\")])\n",
    "            if file_path:\n",
    "                self.image.save(file_path)\n",
    "                messagebox.showinfo(\"Save Image\", \"Image saved successfully!\")\n",
    "\n",
    "    def display_image(self):\n",
    "        if self.image:\n",
    "            # self.image = self.image.convert(\"L\")  # Convert to grayscale\n",
    "            self.photo = ImageTk.PhotoImage(self.image)\n",
    "            self.image_label.config(image=self.photo)\n",
    "            self.image_label.image = self.photo\n",
    "\n",
    "if __name__ == \"__main__\":\n",
    "    root = tk.Tk()\n",
    "    app = ImageEditorApp(root)\n",
    "    root.mainloop()\n"
   ]
  }
 ],
 "metadata": {
  "kernelspec": {
   "display_name": "base",
   "language": "python",
   "name": "python3"
  },
  "language_info": {
   "codemirror_mode": {
    "name": "ipython",
    "version": 3
   },
   "file_extension": ".py",
   "mimetype": "text/x-python",
   "name": "python",
   "nbconvert_exporter": "python",
   "pygments_lexer": "ipython3",
   "version": "3.10.11"
  },
  "orig_nbformat": 4
 },
 "nbformat": 4,
 "nbformat_minor": 2
}
